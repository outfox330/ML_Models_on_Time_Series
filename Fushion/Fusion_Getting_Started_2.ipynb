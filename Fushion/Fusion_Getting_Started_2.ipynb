{
 "cells": [
  {
   "cell_type": "markdown",
   "id": "d4c38d97",
   "metadata": {},
   "source": [
    "# Simple ideas of fusing modalities"
   ]
  },
  {
   "cell_type": "markdown",
   "id": "6e559096",
   "metadata": {},
   "source": [
    "- There are many ways to fuse modalities, in this we will start with a state-of-the-art approach where fusion happens in the intermediate layers\n",
    "- An alternative to this - idea is feature/sensor concatenation, which is shown to be inferior by many research papers"
   ]
  },
  {
   "cell_type": "markdown",
   "id": "631f7bc9",
   "metadata": {},
   "source": [
    "# Getting Started-2\n",
    "- Here we train the fushion classifier"
   ]
  },
  {
   "cell_type": "code",
   "execution_count": 1,
   "id": "1b4eb69e",
   "metadata": {},
   "outputs": [],
   "source": [
    "import os\n",
    "os.environ[\"CUDA_VISIBLE_DEVICES\"]=\"0\""
   ]
  },
  {
   "cell_type": "code",
   "execution_count": 2,
   "id": "ac320d62",
   "metadata": {},
   "outputs": [
    {
     "name": "stderr",
     "output_type": "stream",
     "text": [
      "2022-03-09 13:25:07.558713: I tensorflow/stream_executor/platform/default/dso_loader.cc:49] Successfully opened dynamic library libcudart.so.11.0\n",
      "2022-03-09 13:25:08.846725: I tensorflow/compiler/jit/xla_cpu_device.cc:41] Not creating XLA devices, tf_xla_enable_xla_devices not set\n",
      "2022-03-09 13:25:08.847424: I tensorflow/stream_executor/platform/default/dso_loader.cc:49] Successfully opened dynamic library libcuda.so.1\n",
      "2022-03-09 13:25:08.898730: I tensorflow/core/common_runtime/gpu/gpu_device.cc:1720] Found device 0 with properties: \n",
      "pciBusID: 0000:01:00.0 name: NVIDIA GeForce GTX 1080 Ti computeCapability: 6.1\n",
      "coreClock: 1.683GHz coreCount: 28 deviceMemorySize: 10.92GiB deviceMemoryBandwidth: 451.17GiB/s\n",
      "2022-03-09 13:25:08.898765: I tensorflow/stream_executor/platform/default/dso_loader.cc:49] Successfully opened dynamic library libcudart.so.11.0\n",
      "2022-03-09 13:25:08.901012: I tensorflow/stream_executor/platform/default/dso_loader.cc:49] Successfully opened dynamic library libcublas.so.11\n",
      "2022-03-09 13:25:08.901054: I tensorflow/stream_executor/platform/default/dso_loader.cc:49] Successfully opened dynamic library libcublasLt.so.11\n",
      "2022-03-09 13:25:08.901968: I tensorflow/stream_executor/platform/default/dso_loader.cc:49] Successfully opened dynamic library libcufft.so.10\n",
      "2022-03-09 13:25:08.902157: I tensorflow/stream_executor/platform/default/dso_loader.cc:49] Successfully opened dynamic library libcurand.so.10\n",
      "2022-03-09 13:25:08.904479: I tensorflow/stream_executor/platform/default/dso_loader.cc:49] Successfully opened dynamic library libcusolver.so.10\n",
      "2022-03-09 13:25:08.904991: I tensorflow/stream_executor/platform/default/dso_loader.cc:49] Successfully opened dynamic library libcusparse.so.11\n",
      "2022-03-09 13:25:08.905146: I tensorflow/stream_executor/platform/default/dso_loader.cc:49] Successfully opened dynamic library libcudnn.so.8\n",
      "2022-03-09 13:25:08.906346: I tensorflow/core/common_runtime/gpu/gpu_device.cc:1862] Adding visible gpu devices: 0\n"
     ]
    }
   ],
   "source": [
    "import tensorflow as tf\n",
    "gpus = tf.config.experimental.list_physical_devices('GPU')\n",
    "if gpus:\n",
    "  try:\n",
    "    for gpu in gpus:\n",
    "      tf.config.experimental.set_memory_growth(gpu, True)\n",
    "  except RuntimeError as e:\n",
    "    print(e)"
   ]
  },
  {
   "cell_type": "code",
   "execution_count": 3,
   "id": "bc4d73d6",
   "metadata": {},
   "outputs": [],
   "source": [
    "from tensorflow import keras\n",
    "from tensorflow.keras.models import Sequential\n",
    "from tensorflow.keras.layers import Dense\n",
    "from tensorflow.keras.layers import Flatten\n",
    "from tensorflow.keras.layers import Dropout\n",
    "from tensorflow.keras.layers import Conv1D\n",
    "from tensorflow.keras.layers import MaxPooling1D\n",
    "from tensorflow.keras.utils import to_categorical\n",
    "\n",
    "from numpy import mean\n",
    "from numpy import std\n",
    "from numpy import dstack\n",
    "from pandas import read_csv\n",
    "from matplotlib import pyplot"
   ]
  },
  {
   "cell_type": "markdown",
   "id": "2c29c5c6",
   "metadata": {},
   "source": [
    "# Data loading"
   ]
  },
  {
   "cell_type": "code",
   "execution_count": 4,
   "id": "2ef5704f",
   "metadata": {},
   "outputs": [],
   "source": [
    "def load_file(filepath):\n",
    "    dataframe = read_csv(filepath, header=None, delim_whitespace=True)\n",
    "    return dataframe.values\n",
    " \n",
    "def load_group(filenames, prefix=''):\n",
    "    loaded = list()\n",
    "    for name in filenames:\n",
    "        data = load_file(prefix + name)\n",
    "        loaded.append(data)\n",
    "        \n",
    "    loaded = dstack(loaded)\n",
    "    return loaded"
   ]
  },
  {
   "cell_type": "code",
   "execution_count": 5,
   "id": "c1f28dc3",
   "metadata": {},
   "outputs": [],
   "source": [
    "# load train or test\n",
    "def load_dataset_group(group, prefix=''):\n",
    "    filepath = prefix + group + '/Inertial Signals/'\n",
    "    # load all 9 files as a single array\n",
    "    filenames = list()\n",
    "    # total acceleration\n",
    "    filenames += ['total_acc_x_'+group+'.txt', 'total_acc_y_'+group+'.txt', 'total_acc_z_'+group+'.txt']\n",
    "    # body acceleration\n",
    "    filenames += ['body_acc_x_'+group+'.txt', 'body_acc_y_'+group+'.txt', 'body_acc_z_'+group+'.txt']\n",
    "    # body gyroscope\n",
    "    filenames += ['body_gyro_x_'+group+'.txt', 'body_gyro_y_'+group+'.txt', 'body_gyro_z_'+group+'.txt']\n",
    "    # load input data\n",
    "    X = load_group(filenames, filepath)\n",
    "    # load class output\n",
    "    y = load_file(prefix + group + '/y_'+group+'.txt')\n",
    "    return X, y"
   ]
  },
  {
   "cell_type": "code",
   "execution_count": 6,
   "id": "66c07d4a",
   "metadata": {},
   "outputs": [],
   "source": [
    "# load the dataset, returns train and test X and y elements\n",
    "def load_dataset(prefix=''):\n",
    "    # load all train\n",
    "    trainX, trainy = load_dataset_group('train', prefix + 'datasets/UCI-HAR-Dataset/')\n",
    "    \n",
    "    # load all test\n",
    "    testX, testy = load_dataset_group('test', prefix + 'datasets/UCI-HAR-Dataset/')\n",
    "    \n",
    "    # zero-offset class values\n",
    "    trainy = trainy - 1\n",
    "    testy = testy - 1\n",
    "    # one hot encode y\n",
    "    trainy = to_categorical(trainy)\n",
    "    testy = to_categorical(testy)\n",
    "    print(trainX.shape, trainy.shape, testX.shape, testy.shape)\n",
    "    return trainX, trainy, testX, testy"
   ]
  },
  {
   "cell_type": "code",
   "execution_count": 7,
   "id": "2fa4d5ce",
   "metadata": {},
   "outputs": [
    {
     "name": "stdout",
     "output_type": "stream",
     "text": [
      "(7352, 128, 9) (7352, 6) (2947, 128, 9) (2947, 6)\n"
     ]
    }
   ],
   "source": [
    "# Load the data\n",
    "trainX, trainy, testX, testy = load_dataset()"
   ]
  },
  {
   "cell_type": "code",
   "execution_count": 8,
   "id": "255a7d22",
   "metadata": {},
   "outputs": [
    {
     "name": "stdout",
     "output_type": "stream",
     "text": [
      "(7352, 128, 3)\n",
      "(2947, 128, 3)\n",
      "(7352, 128, 3)\n",
      "(2947, 128, 3)\n"
     ]
    }
   ],
   "source": [
    "trainX_acc = trainX[:,:,:3]\n",
    "print(trainX_acc.shape)\n",
    "testX_acc = testX[:,:,:3]\n",
    "print(testX_acc.shape)\n",
    "\n",
    "trainX_gyro = trainX[:,:,6:]\n",
    "print(trainX_gyro.shape)\n",
    "testX_gyro = testX[:,:,6:]\n",
    "print(testX_gyro.shape)"
   ]
  },
  {
   "cell_type": "markdown",
   "id": "739c87ec",
   "metadata": {},
   "source": [
    "# Fushion modal model"
   ]
  },
  {
   "cell_type": "code",
   "execution_count": 9,
   "id": "1213c0b6",
   "metadata": {},
   "outputs": [],
   "source": [
    "from tensorflow.keras import Sequential, Model\n",
    "from tensorflow.keras.layers import Dense, MaxPooling1D, Flatten, Concatenate\n",
    "from tcn import TCN"
   ]
  },
  {
   "cell_type": "code",
   "execution_count": 10,
   "id": "5274a0c8",
   "metadata": {},
   "outputs": [],
   "source": [
    "def get_model_tcn(n_timesteps, n_features_acc, n_features_gyro, nb_filters, n_outputs):\n",
    "    \n",
    "    i1 = keras.Input((n_timesteps, n_features_acc))\n",
    "    i2 = keras.Input((n_timesteps, n_features_gyro))\n",
    "    \n",
    "    tcn1 = TCN(kernel_size=3,\n",
    "            nb_filters=nb_filters,\n",
    "            nb_stacks=3,\n",
    "            use_skip_connections=False,\n",
    "            use_batch_norm=False,\n",
    "            use_weight_norm=False,\n",
    "            use_layer_norm=False)(i1)\n",
    "    \n",
    "    tcn2 = TCN(kernel_size=3,\n",
    "            nb_filters=nb_filters,\n",
    "            nb_stacks=3,\n",
    "            use_skip_connections=False,\n",
    "            use_batch_norm=False,\n",
    "            use_weight_norm=False,\n",
    "            use_layer_norm=False)(i2)\n",
    "    \n",
    "    f1 = Flatten()(tcn1)\n",
    "    f2 = Flatten()(tcn2)\n",
    "    c1 = Concatenate(axis=1)([f1, f2])\n",
    "    c1 = Dropout(0.2)(c1)\n",
    "    d1 = Dense(64, activation='relu')(c1)\n",
    "    output = Dense(n_outputs, activation='softmax')(d1)\n",
    "    model = Model(inputs=[i1, i2], outputs=output, name=\"fushion_model\")\n",
    "    model.compile(loss='categorical_crossentropy', optimizer='adam', metrics=['accuracy'])\n",
    "   \n",
    "    return model"
   ]
  },
  {
   "cell_type": "code",
   "execution_count": 17,
   "id": "906d4a5c",
   "metadata": {},
   "outputs": [],
   "source": [
    "verbose, epochs, batch_size = 1, 50, 128\n",
    "n_timesteps, n_features, n_outputs = trainX_acc.shape[1], trainX_acc.shape[2], trainy.shape[1]\n",
    "\n",
    "model= get_model_tcn(n_timesteps, n_features, n_features, 16, n_outputs)"
   ]
  },
  {
   "cell_type": "code",
   "execution_count": 12,
   "id": "7275e4f4",
   "metadata": {
    "scrolled": true
   },
   "outputs": [
    {
     "name": "stdout",
     "output_type": "stream",
     "text": [
      "Model: \"fushion_model\"\n",
      "__________________________________________________________________________________________________\n",
      "Layer (type)                    Output Shape         Param #     Connected to                     \n",
      "==================================================================================================\n",
      "input_1 (InputLayer)            [(None, 128, 3)]     0                                            \n",
      "__________________________________________________________________________________________________\n",
      "input_2 (InputLayer)            [(None, 128, 3)]     0                                            \n",
      "__________________________________________________________________________________________________\n",
      "tcn (TCN)                       (None, 16)           27664       input_1[0][0]                    \n",
      "__________________________________________________________________________________________________\n",
      "tcn_1 (TCN)                     (None, 16)           27664       input_2[0][0]                    \n",
      "__________________________________________________________________________________________________\n",
      "flatten (Flatten)               (None, 16)           0           tcn[0][0]                        \n",
      "__________________________________________________________________________________________________\n",
      "flatten_1 (Flatten)             (None, 16)           0           tcn_1[0][0]                      \n",
      "__________________________________________________________________________________________________\n",
      "concatenate (Concatenate)       (None, 32)           0           flatten[0][0]                    \n",
      "                                                                 flatten_1[0][0]                  \n",
      "__________________________________________________________________________________________________\n",
      "dropout (Dropout)               (None, 32)           0           concatenate[0][0]                \n",
      "__________________________________________________________________________________________________\n",
      "dense (Dense)                   (None, 64)           2112        dropout[0][0]                    \n",
      "__________________________________________________________________________________________________\n",
      "dense_1 (Dense)                 (None, 6)            390         dense[0][0]                      \n",
      "==================================================================================================\n",
      "Total params: 57,830\n",
      "Trainable params: 57,830\n",
      "Non-trainable params: 0\n",
      "__________________________________________________________________________________________________\n"
     ]
    }
   ],
   "source": [
    "model.summary()"
   ]
  },
  {
   "cell_type": "code",
   "execution_count": 13,
   "id": "f5aafae1",
   "metadata": {},
   "outputs": [],
   "source": [
    "import tensorflow as tf\n",
    "tf.config.run_functions_eagerly(True)"
   ]
  },
  {
   "cell_type": "code",
   "execution_count": 14,
   "id": "72459fed",
   "metadata": {},
   "outputs": [
    {
     "name": "stdout",
     "output_type": "stream",
     "text": [
      "Epoch 1/50\n"
     ]
    },
    {
     "name": "stderr",
     "output_type": "stream",
     "text": [
      "/home/nesl/anaconda3/envs/tf25/lib/python3.8/site-packages/tensorflow/python/data/ops/dataset_ops.py:3503: UserWarning: Even though the tf.config.experimental_run_functions_eagerly option is set, this option does not apply to tf.data functions. tf.data functions are still traced and executed as graphs.\n",
      "  warnings.warn(\n",
      "2022-03-09 13:25:13.986055: I tensorflow/compiler/mlir/mlir_graph_optimization_pass.cc:116] None of the MLIR optimization passes are enabled (registered 2)\n",
      "2022-03-09 13:25:14.004102: I tensorflow/core/platform/profile_utils/cpu_utils.cc:112] CPU Frequency: 3497870000 Hz\n",
      "2022-03-09 13:25:14.029763: I tensorflow/stream_executor/platform/default/dso_loader.cc:49] Successfully opened dynamic library libcudnn.so.8\n",
      "2022-03-09 13:25:14.765049: W tensorflow/stream_executor/gpu/asm_compiler.cc:63] Running ptxas --version returned 256\n",
      "2022-03-09 13:25:14.815565: W tensorflow/stream_executor/gpu/redzone_allocator.cc:314] Internal: ptxas exited with non-zero error code 256, output: \n",
      "Relying on driver to perform ptx compilation. \n",
      "Modify $PATH to customize ptxas location.\n",
      "This message will be only logged once.\n",
      "2022-03-09 13:25:15.320669: I tensorflow/stream_executor/platform/default/dso_loader.cc:49] Successfully opened dynamic library libcublas.so.11\n",
      "2022-03-09 13:25:15.531953: I tensorflow/stream_executor/platform/default/dso_loader.cc:49] Successfully opened dynamic library libcublasLt.so.11\n"
     ]
    },
    {
     "name": "stdout",
     "output_type": "stream",
     "text": [
      "58/58 [==============================] - 44s 547ms/step - loss: 370.5094 - accuracy: 0.2061\n",
      "Epoch 2/50\n",
      "58/58 [==============================] - 20s 339ms/step - loss: 2.7876 - accuracy: 0.4331\n",
      "Epoch 3/50\n",
      "58/58 [==============================] - 19s 332ms/step - loss: 1.6661 - accuracy: 0.5437\n",
      "Epoch 4/50\n",
      "58/58 [==============================] - 20s 338ms/step - loss: 1.2342 - accuracy: 0.6025\n",
      "Epoch 5/50\n",
      "58/58 [==============================] - 19s 332ms/step - loss: 0.9700 - accuracy: 0.6543\n",
      "Epoch 6/50\n",
      "58/58 [==============================] - 19s 334ms/step - loss: 0.8289 - accuracy: 0.6898\n",
      "Epoch 7/50\n",
      "58/58 [==============================] - 19s 331ms/step - loss: 0.6892 - accuracy: 0.7212\n",
      "Epoch 8/50\n",
      "58/58 [==============================] - 19s 332ms/step - loss: 0.6399 - accuracy: 0.7457\n",
      "Epoch 9/50\n",
      "58/58 [==============================] - 19s 329ms/step - loss: 0.5702 - accuracy: 0.7716\n",
      "Epoch 10/50\n",
      "58/58 [==============================] - 19s 332ms/step - loss: 0.4940 - accuracy: 0.7942\n",
      "Epoch 11/50\n",
      "58/58 [==============================] - 19s 332ms/step - loss: 0.4421 - accuracy: 0.8198\n",
      "Epoch 12/50\n",
      "58/58 [==============================] - 21s 363ms/step - loss: 0.3722 - accuracy: 0.8475\n",
      "Epoch 13/50\n",
      "58/58 [==============================] - 21s 355ms/step - loss: 0.3481 - accuracy: 0.8665\n",
      "Epoch 14/50\n",
      "58/58 [==============================] - 19s 335ms/step - loss: 0.2862 - accuracy: 0.8870\n",
      "Epoch 15/50\n",
      "58/58 [==============================] - 19s 332ms/step - loss: 0.2457 - accuracy: 0.9043\n",
      "Epoch 16/50\n",
      "58/58 [==============================] - 19s 330ms/step - loss: 0.2126 - accuracy: 0.9198\n",
      "Epoch 17/50\n",
      "58/58 [==============================] - 19s 331ms/step - loss: 0.1952 - accuracy: 0.9264\n",
      "Epoch 18/50\n",
      "58/58 [==============================] - 19s 330ms/step - loss: 0.1713 - accuracy: 0.9328\n",
      "Epoch 19/50\n",
      "58/58 [==============================] - 19s 329ms/step - loss: 0.1637 - accuracy: 0.9312\n",
      "Epoch 20/50\n",
      "58/58 [==============================] - 19s 330ms/step - loss: 0.1530 - accuracy: 0.9348\n",
      "Epoch 21/50\n",
      "58/58 [==============================] - 19s 330ms/step - loss: 0.1372 - accuracy: 0.9459\n",
      "Epoch 22/50\n",
      "58/58 [==============================] - 19s 331ms/step - loss: 0.1397 - accuracy: 0.9426\n",
      "Epoch 23/50\n",
      "58/58 [==============================] - 19s 330ms/step - loss: 0.1346 - accuracy: 0.9447\n",
      "Epoch 24/50\n",
      "58/58 [==============================] - 19s 331ms/step - loss: 0.1280 - accuracy: 0.9498\n",
      "Epoch 25/50\n",
      "58/58 [==============================] - 19s 329ms/step - loss: 0.1221 - accuracy: 0.9489\n",
      "Epoch 26/50\n",
      "58/58 [==============================] - 19s 330ms/step - loss: 0.1170 - accuracy: 0.9510\n",
      "Epoch 27/50\n",
      "58/58 [==============================] - 19s 331ms/step - loss: 0.1052 - accuracy: 0.9564\n",
      "Epoch 28/50\n",
      "58/58 [==============================] - 19s 330ms/step - loss: 0.1155 - accuracy: 0.9547\n",
      "Epoch 29/50\n",
      "58/58 [==============================] - 19s 331ms/step - loss: 0.0973 - accuracy: 0.9578\n",
      "Epoch 30/50\n",
      "58/58 [==============================] - 19s 331ms/step - loss: 0.0937 - accuracy: 0.9574\n",
      "Epoch 31/50\n",
      "58/58 [==============================] - 19s 331ms/step - loss: 0.0934 - accuracy: 0.9604\n",
      "Epoch 32/50\n",
      "58/58 [==============================] - 19s 334ms/step - loss: 0.1036 - accuracy: 0.9623\n",
      "Epoch 33/50\n",
      "58/58 [==============================] - 19s 330ms/step - loss: 0.1152 - accuracy: 0.9551\n",
      "Epoch 34/50\n",
      "58/58 [==============================] - 19s 329ms/step - loss: 0.0878 - accuracy: 0.9645\n",
      "Epoch 35/50\n",
      "58/58 [==============================] - 19s 331ms/step - loss: 0.0887 - accuracy: 0.9640\n",
      "Epoch 36/50\n",
      "58/58 [==============================] - 19s 330ms/step - loss: 0.0906 - accuracy: 0.9634\n",
      "Epoch 37/50\n",
      "58/58 [==============================] - 19s 335ms/step - loss: 0.0742 - accuracy: 0.9679\n",
      "Epoch 38/50\n",
      "58/58 [==============================] - 19s 332ms/step - loss: 0.0800 - accuracy: 0.9686\n",
      "Epoch 39/50\n",
      "58/58 [==============================] - 19s 334ms/step - loss: 0.0610 - accuracy: 0.9751\n",
      "Epoch 40/50\n",
      "58/58 [==============================] - 19s 329ms/step - loss: 0.0835 - accuracy: 0.9683\n",
      "Epoch 41/50\n",
      "58/58 [==============================] - 19s 332ms/step - loss: 0.0741 - accuracy: 0.9723\n",
      "Epoch 42/50\n",
      "58/58 [==============================] - 19s 331ms/step - loss: 0.0669 - accuracy: 0.9721\n",
      "Epoch 43/50\n",
      "58/58 [==============================] - 19s 331ms/step - loss: 0.0517 - accuracy: 0.9806\n",
      "Epoch 44/50\n",
      "58/58 [==============================] - 19s 329ms/step - loss: 0.0625 - accuracy: 0.9784\n",
      "Epoch 45/50\n",
      "58/58 [==============================] - 20s 337ms/step - loss: 0.0712 - accuracy: 0.9738\n",
      "Epoch 46/50\n",
      "58/58 [==============================] - 20s 336ms/step - loss: 0.0657 - accuracy: 0.9715\n",
      "Epoch 47/50\n",
      "58/58 [==============================] - 19s 333ms/step - loss: 0.0485 - accuracy: 0.9840\n",
      "Epoch 48/50\n",
      "58/58 [==============================] - 20s 339ms/step - loss: 0.0810 - accuracy: 0.9719\n",
      "Epoch 49/50\n",
      "58/58 [==============================] - 19s 335ms/step - loss: 0.0509 - accuracy: 0.9805\n",
      "Epoch 50/50\n",
      "58/58 [==============================] - 20s 338ms/step - loss: 0.0572 - accuracy: 0.9785\n"
     ]
    },
    {
     "data": {
      "text/plain": [
       "<tensorflow.python.keras.callbacks.History at 0x7f85346e9430>"
      ]
     },
     "execution_count": 14,
     "metadata": {},
     "output_type": "execute_result"
    }
   ],
   "source": [
    "model.fit([trainX_acc, trainX_gyro], trainy, epochs=epochs, batch_size=batch_size, verbose=verbose)"
   ]
  },
  {
   "cell_type": "code",
   "execution_count": 16,
   "id": "08bc4d25",
   "metadata": {},
   "outputs": [
    {
     "name": "stdout",
     "output_type": "stream",
     "text": [
      "Test accuracy of model is: 0.9222938418388367\n"
     ]
    }
   ],
   "source": [
    "# evaluate model\n",
    "_, accuracy = model.evaluate([testX_acc, testX_gyro], testy, batch_size=batch_size, verbose=0)\n",
    "\n",
    "print('Test accuracy of model is:', accuracy)"
   ]
  },
  {
   "cell_type": "code",
   "execution_count": null,
   "id": "4b2b8a36",
   "metadata": {},
   "outputs": [],
   "source": []
  }
 ],
 "metadata": {
  "kernelspec": {
   "display_name": "Python 3 (ipykernel)",
   "language": "python",
   "name": "python3"
  },
  "language_info": {
   "codemirror_mode": {
    "name": "ipython",
    "version": 3
   },
   "file_extension": ".py",
   "mimetype": "text/x-python",
   "name": "python",
   "nbconvert_exporter": "python",
   "pygments_lexer": "ipython3",
   "version": "3.8.1"
  }
 },
 "nbformat": 4,
 "nbformat_minor": 5
}
