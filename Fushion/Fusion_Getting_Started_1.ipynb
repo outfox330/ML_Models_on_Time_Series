{
 "cells": [
  {
   "cell_type": "markdown",
   "id": "d4c38d97",
   "metadata": {},
   "source": [
    "# Simple ideas of fusing modalities"
   ]
  },
  {
   "cell_type": "markdown",
   "id": "6e559096",
   "metadata": {},
   "source": [
    "- There are many ways to fuse modalities, in this we will start with a state-of-the-art approach where fusion happens in the intermediate layers\n",
    "- An alternative to this - idea is feature/sensor concatenation, which is shown to be inferior by many research papers"
   ]
  },
  {
   "cell_type": "markdown",
   "id": "631f7bc9",
   "metadata": {},
   "source": [
    "# Getting Started\n",
    "- For this example, we will use two inertial sensors: Acc and Gyro\n",
    "- This fusion is very easy to do, as they both come from same device, and are often captured at the same sampling intervals\n",
    "- In real scenario's it is often challenging, due to multiple reasons outlined in my past research\n",
    "- Paper: Time Awareness in Deep Learning-based Multimodal Fusion across Smartphone Platforms. IoTDI, 2020"
   ]
  },
  {
   "cell_type": "markdown",
   "id": "1251bfd9",
   "metadata": {},
   "source": [
    "# Individual Modality: Acc Accuracy: 84%\n",
    "# Individual Modality Gyro Accuracy: 76%"
   ]
  },
  {
   "cell_type": "code",
   "execution_count": 1,
   "id": "59a4c1b3",
   "metadata": {},
   "outputs": [],
   "source": [
    "import os\n",
    "os.environ[\"CUDA_VISIBLE_DEVICES\"]=\"1\""
   ]
  },
  {
   "cell_type": "code",
   "execution_count": 2,
   "id": "bc4d73d6",
   "metadata": {},
   "outputs": [
    {
     "name": "stderr",
     "output_type": "stream",
     "text": [
      "2022-03-09 13:03:40.122883: I tensorflow/stream_executor/platform/default/dso_loader.cc:49] Successfully opened dynamic library libcudart.so.11.0\n"
     ]
    }
   ],
   "source": [
    "from tensorflow import keras\n",
    "from tensorflow.keras.models import Sequential\n",
    "from tensorflow.keras.layers import Dense\n",
    "from tensorflow.keras.layers import Flatten\n",
    "from tensorflow.keras.layers import Dropout\n",
    "from tensorflow.keras.layers import Conv1D\n",
    "from tensorflow.keras.layers import MaxPooling1D\n",
    "from tensorflow.keras.utils import to_categorical\n",
    "\n",
    "from numpy import mean\n",
    "from numpy import std\n",
    "from numpy import dstack\n",
    "from pandas import read_csv\n",
    "from matplotlib import pyplot"
   ]
  },
  {
   "cell_type": "code",
   "execution_count": null,
   "id": "c26a800b",
   "metadata": {},
   "outputs": [],
   "source": [
    "import tensorflow as tf\n",
    "tf.config.experimental.set_memory_growth(True)"
   ]
  },
  {
   "cell_type": "markdown",
   "id": "2c29c5c6",
   "metadata": {},
   "source": [
    "# Data loading"
   ]
  },
  {
   "cell_type": "code",
   "execution_count": 3,
   "id": "2ef5704f",
   "metadata": {},
   "outputs": [],
   "source": [
    "def load_file(filepath):\n",
    "    dataframe = read_csv(filepath, header=None, delim_whitespace=True)\n",
    "    return dataframe.values\n",
    " \n",
    "def load_group(filenames, prefix=''):\n",
    "    loaded = list()\n",
    "    for name in filenames:\n",
    "        data = load_file(prefix + name)\n",
    "        loaded.append(data)\n",
    "        \n",
    "    loaded = dstack(loaded)\n",
    "    return loaded"
   ]
  },
  {
   "cell_type": "code",
   "execution_count": 4,
   "id": "c1f28dc3",
   "metadata": {},
   "outputs": [],
   "source": [
    "# load train or test\n",
    "def load_dataset_group(group, prefix=''):\n",
    "    filepath = prefix + group + '/Inertial Signals/'\n",
    "    # load all 9 files as a single array\n",
    "    filenames = list()\n",
    "    # total acceleration\n",
    "    filenames += ['total_acc_x_'+group+'.txt', 'total_acc_y_'+group+'.txt', 'total_acc_z_'+group+'.txt']\n",
    "    # body acceleration\n",
    "    filenames += ['body_acc_x_'+group+'.txt', 'body_acc_y_'+group+'.txt', 'body_acc_z_'+group+'.txt']\n",
    "    # body gyroscope\n",
    "    filenames += ['body_gyro_x_'+group+'.txt', 'body_gyro_y_'+group+'.txt', 'body_gyro_z_'+group+'.txt']\n",
    "    # load input data\n",
    "    X = load_group(filenames, filepath)\n",
    "    # load class output\n",
    "    y = load_file(prefix + group + '/y_'+group+'.txt')\n",
    "    return X, y"
   ]
  },
  {
   "cell_type": "code",
   "execution_count": 5,
   "id": "66c07d4a",
   "metadata": {},
   "outputs": [],
   "source": [
    "# load the dataset, returns train and test X and y elements\n",
    "def load_dataset(prefix=''):\n",
    "    # load all train\n",
    "    trainX, trainy = load_dataset_group('train', prefix + 'datasets/UCI-HAR-Dataset/')\n",
    "    \n",
    "    # load all test\n",
    "    testX, testy = load_dataset_group('test', prefix + 'datasets/UCI-HAR-Dataset/')\n",
    "    \n",
    "    # zero-offset class values\n",
    "    trainy = trainy - 1\n",
    "    testy = testy - 1\n",
    "    # one hot encode y\n",
    "    trainy = to_categorical(trainy)\n",
    "    testy = to_categorical(testy)\n",
    "    print(trainX.shape, trainy.shape, testX.shape, testy.shape)\n",
    "    return trainX, trainy, testX, testy"
   ]
  },
  {
   "cell_type": "code",
   "execution_count": 6,
   "id": "2fa4d5ce",
   "metadata": {},
   "outputs": [
    {
     "name": "stdout",
     "output_type": "stream",
     "text": [
      "(7352, 128, 9) (7352, 6) (2947, 128, 9) (2947, 6)\n"
     ]
    }
   ],
   "source": [
    "# Load the data\n",
    "trainX, trainy, testX, testy = load_dataset()"
   ]
  },
  {
   "cell_type": "code",
   "execution_count": 7,
   "id": "255a7d22",
   "metadata": {},
   "outputs": [
    {
     "name": "stdout",
     "output_type": "stream",
     "text": [
      "(7352, 128, 3)\n",
      "(2947, 128, 3)\n",
      "(7352, 128, 3)\n",
      "(2947, 128, 3)\n"
     ]
    }
   ],
   "source": [
    "trainX_acc = trainX[:,:,:3]\n",
    "print(trainX_acc.shape)\n",
    "testX_acc = testX[:,:,:3]\n",
    "print(testX_acc.shape)\n",
    "\n",
    "trainX_gyro = trainX[:,:,6:]\n",
    "print(trainX_gyro.shape)\n",
    "testX_gyro = testX[:,:,6:]\n",
    "print(testX_gyro.shape)"
   ]
  },
  {
   "cell_type": "markdown",
   "id": "739c87ec",
   "metadata": {},
   "source": [
    "# Individual modality model"
   ]
  },
  {
   "cell_type": "code",
   "execution_count": 8,
   "id": "1213c0b6",
   "metadata": {},
   "outputs": [],
   "source": [
    "from tensorflow.keras import Sequential\n",
    "from tensorflow.keras.layers import Dense, MaxPooling1D, Flatten\n",
    "from tcn import TCN"
   ]
  },
  {
   "cell_type": "code",
   "execution_count": 9,
   "id": "5274a0c8",
   "metadata": {},
   "outputs": [],
   "source": [
    "def get_model_tcn(n_timesteps, n_features, nb_filters, n_outputs):\n",
    "    model = Sequential()\n",
    "    model.add(TCN(input_shape=(n_timesteps, n_features),\n",
    "        nb_filters=nb_filters,\n",
    "        kernel_size=3,\n",
    "        nb_stacks=3,\n",
    "        use_skip_connections=False,\n",
    "        use_batch_norm=False,\n",
    "        use_weight_norm=False,\n",
    "        use_layer_norm=False))\n",
    "    \n",
    "    model.add(Flatten())\n",
    "    model.add(Dropout(0.2))\n",
    "    model.add(Dense(64, activation='relu'))\n",
    "    model.add(Dense(n_outputs, activation='softmax'))\n",
    "    model.compile(loss='categorical_crossentropy', optimizer='adam', metrics=['accuracy'])\n",
    "   \n",
    "    return model"
   ]
  },
  {
   "cell_type": "code",
   "execution_count": 10,
   "id": "906d4a5c",
   "metadata": {},
   "outputs": [
    {
     "name": "stderr",
     "output_type": "stream",
     "text": [
      "2022-03-09 13:03:44.138113: I tensorflow/compiler/jit/xla_cpu_device.cc:41] Not creating XLA devices, tf_xla_enable_xla_devices not set\n",
      "2022-03-09 13:03:44.139642: I tensorflow/stream_executor/platform/default/dso_loader.cc:49] Successfully opened dynamic library libcuda.so.1\n",
      "2022-03-09 13:03:44.196046: I tensorflow/core/common_runtime/gpu/gpu_device.cc:1720] Found device 0 with properties: \n",
      "pciBusID: 0000:02:00.0 name: NVIDIA GeForce GTX 1080 Ti computeCapability: 6.1\n",
      "coreClock: 1.683GHz coreCount: 28 deviceMemorySize: 10.92GiB deviceMemoryBandwidth: 451.17GiB/s\n",
      "2022-03-09 13:03:44.196076: I tensorflow/stream_executor/platform/default/dso_loader.cc:49] Successfully opened dynamic library libcudart.so.11.0\n",
      "2022-03-09 13:03:44.198036: I tensorflow/stream_executor/platform/default/dso_loader.cc:49] Successfully opened dynamic library libcublas.so.11\n",
      "2022-03-09 13:03:44.198080: I tensorflow/stream_executor/platform/default/dso_loader.cc:49] Successfully opened dynamic library libcublasLt.so.11\n",
      "2022-03-09 13:03:44.198913: I tensorflow/stream_executor/platform/default/dso_loader.cc:49] Successfully opened dynamic library libcufft.so.10\n",
      "2022-03-09 13:03:44.199113: I tensorflow/stream_executor/platform/default/dso_loader.cc:49] Successfully opened dynamic library libcurand.so.10\n",
      "2022-03-09 13:03:44.201065: I tensorflow/stream_executor/platform/default/dso_loader.cc:49] Successfully opened dynamic library libcusolver.so.10\n",
      "2022-03-09 13:03:44.201491: I tensorflow/stream_executor/platform/default/dso_loader.cc:49] Successfully opened dynamic library libcusparse.so.11\n",
      "2022-03-09 13:03:44.201660: I tensorflow/stream_executor/platform/default/dso_loader.cc:49] Successfully opened dynamic library libcudnn.so.8\n",
      "2022-03-09 13:03:44.203354: I tensorflow/core/common_runtime/gpu/gpu_device.cc:1862] Adding visible gpu devices: 0\n",
      "2022-03-09 13:03:44.204588: I tensorflow/compiler/jit/xla_gpu_device.cc:99] Not creating XLA devices, tf_xla_enable_xla_devices not set\n",
      "2022-03-09 13:03:44.206467: I tensorflow/core/common_runtime/gpu/gpu_device.cc:1720] Found device 0 with properties: \n",
      "pciBusID: 0000:02:00.0 name: NVIDIA GeForce GTX 1080 Ti computeCapability: 6.1\n",
      "coreClock: 1.683GHz coreCount: 28 deviceMemorySize: 10.92GiB deviceMemoryBandwidth: 451.17GiB/s\n",
      "2022-03-09 13:03:44.206512: I tensorflow/stream_executor/platform/default/dso_loader.cc:49] Successfully opened dynamic library libcudart.so.11.0\n",
      "2022-03-09 13:03:44.206550: I tensorflow/stream_executor/platform/default/dso_loader.cc:49] Successfully opened dynamic library libcublas.so.11\n",
      "2022-03-09 13:03:44.206581: I tensorflow/stream_executor/platform/default/dso_loader.cc:49] Successfully opened dynamic library libcublasLt.so.11\n",
      "2022-03-09 13:03:44.206625: I tensorflow/stream_executor/platform/default/dso_loader.cc:49] Successfully opened dynamic library libcufft.so.10\n",
      "2022-03-09 13:03:44.206682: I tensorflow/stream_executor/platform/default/dso_loader.cc:49] Successfully opened dynamic library libcurand.so.10\n",
      "2022-03-09 13:03:44.206718: I tensorflow/stream_executor/platform/default/dso_loader.cc:49] Successfully opened dynamic library libcusolver.so.10\n",
      "2022-03-09 13:03:44.206748: I tensorflow/stream_executor/platform/default/dso_loader.cc:49] Successfully opened dynamic library libcusparse.so.11\n",
      "2022-03-09 13:03:44.206778: I tensorflow/stream_executor/platform/default/dso_loader.cc:49] Successfully opened dynamic library libcudnn.so.8\n",
      "2022-03-09 13:03:44.210226: I tensorflow/core/common_runtime/gpu/gpu_device.cc:1862] Adding visible gpu devices: 0\n",
      "2022-03-09 13:03:44.210297: I tensorflow/stream_executor/platform/default/dso_loader.cc:49] Successfully opened dynamic library libcudart.so.11.0\n",
      "2022-03-09 13:03:44.699621: I tensorflow/core/common_runtime/gpu/gpu_device.cc:1261] Device interconnect StreamExecutor with strength 1 edge matrix:\n",
      "2022-03-09 13:03:44.699647: I tensorflow/core/common_runtime/gpu/gpu_device.cc:1267]      0 \n",
      "2022-03-09 13:03:44.699653: I tensorflow/core/common_runtime/gpu/gpu_device.cc:1280] 0:   N \n",
      "2022-03-09 13:03:44.701566: I tensorflow/core/common_runtime/gpu/gpu_device.cc:1406] Created TensorFlow device (/job:localhost/replica:0/task:0/device:GPU:0 with 10269 MB memory) -> physical GPU (device: 0, name: NVIDIA GeForce GTX 1080 Ti, pci bus id: 0000:02:00.0, compute capability: 6.1)\n"
     ]
    }
   ],
   "source": [
    "# verbose, epochs, batch_size = 1, 50, 128\n",
    "# n_timesteps, n_features, n_outputs = trainX_acc.shape[1], trainX_acc.shape[2], trainy.shape[1]\n",
    "\n",
    "# model_acc = get_model_tcn(n_timesteps, n_features, 16, n_outputs)"
   ]
  },
  {
   "cell_type": "code",
   "execution_count": 11,
   "id": "aa4820ad",
   "metadata": {
    "scrolled": true
   },
   "outputs": [
    {
     "name": "stdout",
     "output_type": "stream",
     "text": [
      "Model: \"sequential\"\n",
      "_________________________________________________________________\n",
      "Layer (type)                 Output Shape              Param #   \n",
      "=================================================================\n",
      "tcn (TCN)                    (None, 16)                27664     \n",
      "_________________________________________________________________\n",
      "flatten (Flatten)            (None, 16)                0         \n",
      "_________________________________________________________________\n",
      "dropout (Dropout)            (None, 16)                0         \n",
      "_________________________________________________________________\n",
      "dense (Dense)                (None, 64)                1088      \n",
      "_________________________________________________________________\n",
      "dense_1 (Dense)              (None, 6)                 390       \n",
      "=================================================================\n",
      "Total params: 29,142\n",
      "Trainable params: 29,142\n",
      "Non-trainable params: 0\n",
      "_________________________________________________________________\n"
     ]
    }
   ],
   "source": [
    "model_acc.summary()"
   ]
  },
  {
   "cell_type": "code",
   "execution_count": 12,
   "id": "7b7753ec",
   "metadata": {},
   "outputs": [],
   "source": [
    "import tensorflow as tf\n",
    "tf.config.run_functions_eagerly(True)"
   ]
  },
  {
   "cell_type": "code",
   "execution_count": 13,
   "id": "21ca208d",
   "metadata": {},
   "outputs": [
    {
     "name": "stdout",
     "output_type": "stream",
     "text": [
      "Epoch 1/50\n"
     ]
    },
    {
     "name": "stderr",
     "output_type": "stream",
     "text": [
      "/home/nesl/anaconda3/envs/tf25/lib/python3.8/site-packages/tensorflow/python/data/ops/dataset_ops.py:3503: UserWarning: Even though the tf.config.experimental_run_functions_eagerly option is set, this option does not apply to tf.data functions. tf.data functions are still traced and executed as graphs.\n",
      "  warnings.warn(\n",
      "2022-03-09 13:03:45.743624: I tensorflow/compiler/mlir/mlir_graph_optimization_pass.cc:116] None of the MLIR optimization passes are enabled (registered 2)\n",
      "2022-03-09 13:03:45.764102: I tensorflow/core/platform/profile_utils/cpu_utils.cc:112] CPU Frequency: 3497870000 Hz\n",
      "2022-03-09 13:03:45.786580: I tensorflow/stream_executor/platform/default/dso_loader.cc:49] Successfully opened dynamic library libcudnn.so.8\n",
      "2022-03-09 13:03:46.559665: W tensorflow/stream_executor/gpu/asm_compiler.cc:63] Running ptxas --version returned 256\n",
      "2022-03-09 13:03:46.621900: W tensorflow/stream_executor/gpu/redzone_allocator.cc:314] Internal: ptxas exited with non-zero error code 256, output: \n",
      "Relying on driver to perform ptx compilation. \n",
      "Modify $PATH to customize ptxas location.\n",
      "This message will be only logged once.\n",
      "2022-03-09 13:03:47.240114: I tensorflow/stream_executor/platform/default/dso_loader.cc:49] Successfully opened dynamic library libcublas.so.11\n",
      "2022-03-09 13:03:47.440783: I tensorflow/stream_executor/platform/default/dso_loader.cc:49] Successfully opened dynamic library libcublasLt.so.11\n"
     ]
    },
    {
     "name": "stdout",
     "output_type": "stream",
     "text": [
      "58/58 [==============================] - 38s 411ms/step - loss: 178.8223 - accuracy: 0.2117\n",
      "Epoch 2/50\n",
      "58/58 [==============================] - 10s 172ms/step - loss: 2.5397 - accuracy: 0.3882\n",
      "Epoch 3/50\n",
      "58/58 [==============================] - 10s 173ms/step - loss: 1.6706 - accuracy: 0.5041\n",
      "Epoch 4/50\n",
      "58/58 [==============================] - 10s 179ms/step - loss: 1.2618 - accuracy: 0.5817\n",
      "Epoch 5/50\n",
      "58/58 [==============================] - 11s 184ms/step - loss: 1.0368 - accuracy: 0.6302\n",
      "Epoch 6/50\n",
      "58/58 [==============================] - 10s 173ms/step - loss: 0.9058 - accuracy: 0.6548\n",
      "Epoch 7/50\n",
      "58/58 [==============================] - 10s 176ms/step - loss: 0.8167 - accuracy: 0.6850\n",
      "Epoch 8/50\n",
      "58/58 [==============================] - 10s 173ms/step - loss: 0.7643 - accuracy: 0.6976\n",
      "Epoch 9/50\n",
      "58/58 [==============================] - 10s 176ms/step - loss: 0.6577 - accuracy: 0.7427\n",
      "Epoch 10/50\n",
      "58/58 [==============================] - 10s 177ms/step - loss: 0.6363 - accuracy: 0.7528\n",
      "Epoch 11/50\n",
      "58/58 [==============================] - 10s 177ms/step - loss: 0.6003 - accuracy: 0.7608\n",
      "Epoch 12/50\n",
      "58/58 [==============================] - 10s 179ms/step - loss: 0.5698 - accuracy: 0.7816\n",
      "Epoch 13/50\n",
      "58/58 [==============================] - 10s 174ms/step - loss: 0.5094 - accuracy: 0.8058\n",
      "Epoch 14/50\n",
      "58/58 [==============================] - 10s 174ms/step - loss: 0.4978 - accuracy: 0.8061\n",
      "Epoch 15/50\n",
      "58/58 [==============================] - 10s 178ms/step - loss: 0.4840 - accuracy: 0.8152\n",
      "Epoch 16/50\n",
      "58/58 [==============================] - 10s 174ms/step - loss: 0.4279 - accuracy: 0.8281\n",
      "Epoch 17/50\n",
      "58/58 [==============================] - 10s 175ms/step - loss: 0.4136 - accuracy: 0.8436\n",
      "Epoch 18/50\n",
      "58/58 [==============================] - 10s 176ms/step - loss: 0.4347 - accuracy: 0.8289\n",
      "Epoch 19/50\n",
      "58/58 [==============================] - 10s 175ms/step - loss: 0.3455 - accuracy: 0.8663\n",
      "Epoch 20/50\n",
      "58/58 [==============================] - 11s 185ms/step - loss: 0.3436 - accuracy: 0.8747\n",
      "Epoch 21/50\n",
      "58/58 [==============================] - 10s 175ms/step - loss: 0.3444 - accuracy: 0.8712\n",
      "Epoch 22/50\n",
      "58/58 [==============================] - 11s 183ms/step - loss: 0.3217 - accuracy: 0.8810\n",
      "Epoch 23/50\n",
      "58/58 [==============================] - 10s 181ms/step - loss: 0.2885 - accuracy: 0.8958\n",
      "Epoch 24/50\n",
      "58/58 [==============================] - 10s 175ms/step - loss: 0.2739 - accuracy: 0.8954\n",
      "Epoch 25/50\n",
      "58/58 [==============================] - 10s 174ms/step - loss: 0.2686 - accuracy: 0.9006\n",
      "Epoch 26/50\n",
      "58/58 [==============================] - 10s 174ms/step - loss: 0.2491 - accuracy: 0.9130\n",
      "Epoch 27/50\n",
      "58/58 [==============================] - 10s 174ms/step - loss: 0.3924 - accuracy: 0.8627\n",
      "Epoch 28/50\n",
      "58/58 [==============================] - 10s 181ms/step - loss: 0.2710 - accuracy: 0.8996\n",
      "Epoch 29/50\n",
      "58/58 [==============================] - 10s 173ms/step - loss: 0.2322 - accuracy: 0.9095\n",
      "Epoch 30/50\n",
      "58/58 [==============================] - 10s 173ms/step - loss: 0.2291 - accuracy: 0.9059\n",
      "Epoch 31/50\n",
      "58/58 [==============================] - 10s 179ms/step - loss: 0.2114 - accuracy: 0.9185\n",
      "Epoch 32/50\n",
      "58/58 [==============================] - 10s 174ms/step - loss: 0.2160 - accuracy: 0.9154\n",
      "Epoch 33/50\n",
      "58/58 [==============================] - 10s 175ms/step - loss: 0.2083 - accuracy: 0.9234\n",
      "Epoch 34/50\n",
      "58/58 [==============================] - 10s 175ms/step - loss: 0.2153 - accuracy: 0.9181\n",
      "Epoch 35/50\n",
      "58/58 [==============================] - 10s 173ms/step - loss: 0.1760 - accuracy: 0.9315\n",
      "Epoch 36/50\n",
      "58/58 [==============================] - 10s 174ms/step - loss: 0.1952 - accuracy: 0.9213\n",
      "Epoch 37/50\n",
      "58/58 [==============================] - 10s 173ms/step - loss: 0.1835 - accuracy: 0.9254\n",
      "Epoch 38/50\n",
      "58/58 [==============================] - 10s 176ms/step - loss: 0.1886 - accuracy: 0.9282\n",
      "Epoch 39/50\n",
      "58/58 [==============================] - 10s 178ms/step - loss: 0.2006 - accuracy: 0.9206\n",
      "Epoch 40/50\n",
      "58/58 [==============================] - 10s 174ms/step - loss: 0.1803 - accuracy: 0.9280\n",
      "Epoch 41/50\n",
      "58/58 [==============================] - 10s 174ms/step - loss: 0.1809 - accuracy: 0.9266\n",
      "Epoch 42/50\n",
      "58/58 [==============================] - 10s 174ms/step - loss: 0.1741 - accuracy: 0.9345\n",
      "Epoch 43/50\n",
      "58/58 [==============================] - 10s 175ms/step - loss: 0.1612 - accuracy: 0.9327\n",
      "Epoch 44/50\n",
      "58/58 [==============================] - 10s 175ms/step - loss: 0.1491 - accuracy: 0.9413\n",
      "Epoch 45/50\n",
      "58/58 [==============================] - 10s 174ms/step - loss: 0.1584 - accuracy: 0.9334\n",
      "Epoch 46/50\n",
      "58/58 [==============================] - 10s 174ms/step - loss: 0.2129 - accuracy: 0.9188\n",
      "Epoch 47/50\n",
      "58/58 [==============================] - 10s 175ms/step - loss: 0.1879 - accuracy: 0.9243\n",
      "Epoch 48/50\n",
      "58/58 [==============================] - 10s 176ms/step - loss: 0.1390 - accuracy: 0.9417\n",
      "Epoch 49/50\n",
      "58/58 [==============================] - 10s 175ms/step - loss: 0.1254 - accuracy: 0.9493\n",
      "Epoch 50/50\n",
      "58/58 [==============================] - 11s 182ms/step - loss: 0.1381 - accuracy: 0.9375\n"
     ]
    },
    {
     "data": {
      "text/plain": [
       "<tensorflow.python.keras.callbacks.History at 0x7fcf0aa7bf70>"
      ]
     },
     "execution_count": 13,
     "metadata": {},
     "output_type": "execute_result"
    }
   ],
   "source": [
    "model_acc.fit(trainX_acc, trainy, epochs=epochs, batch_size=batch_size, verbose=verbose)"
   ]
  },
  {
   "cell_type": "code",
   "execution_count": 15,
   "id": "3e3d5406",
   "metadata": {},
   "outputs": [
    {
     "name": "stdout",
     "output_type": "stream",
     "text": [
      "Test accuracy of model is: 0.8401764631271362\n"
     ]
    }
   ],
   "source": [
    "# evaluate model\n",
    "_, accuracy = model_acc.evaluate(testX_acc, testy, batch_size=batch_size, verbose=0)\n",
    "\n",
    "print('Test accuracy of model is:', accuracy)"
   ]
  },
  {
   "cell_type": "code",
   "execution_count": 16,
   "id": "d9aec673",
   "metadata": {},
   "outputs": [],
   "source": [
    "verbose, epochs, batch_size = 1, 50, 128\n",
    "n_timesteps, n_features, n_outputs = trainX_gyro.shape[1], trainX_gyro.shape[2], trainy.shape[1]\n",
    "\n",
    "model_gyro = get_model_tcn(n_timesteps, n_features, 16, n_outputs)"
   ]
  },
  {
   "cell_type": "code",
   "execution_count": 17,
   "id": "350df721",
   "metadata": {},
   "outputs": [
    {
     "name": "stdout",
     "output_type": "stream",
     "text": [
      "Epoch 1/50\n",
      "58/58 [==============================] - 10s 176ms/step - loss: 43.7784 - accuracy: 0.1805\n",
      "Epoch 2/50\n",
      "58/58 [==============================] - 10s 177ms/step - loss: 2.3417 - accuracy: 0.3057\n",
      "Epoch 3/50\n",
      "58/58 [==============================] - 10s 175ms/step - loss: 1.7606 - accuracy: 0.3309\n",
      "Epoch 4/50\n",
      "58/58 [==============================] - 10s 178ms/step - loss: 1.5119 - accuracy: 0.3250\n",
      "Epoch 5/50\n",
      "58/58 [==============================] - 10s 175ms/step - loss: 1.3982 - accuracy: 0.3516\n",
      "Epoch 6/50\n",
      "58/58 [==============================] - 10s 174ms/step - loss: 1.3043 - accuracy: 0.3656\n",
      "Epoch 7/50\n",
      "58/58 [==============================] - 10s 176ms/step - loss: 1.2544 - accuracy: 0.3691\n",
      "Epoch 8/50\n",
      "58/58 [==============================] - 10s 173ms/step - loss: 1.2221 - accuracy: 0.3804\n",
      "Epoch 9/50\n",
      "58/58 [==============================] - 10s 174ms/step - loss: 1.1812 - accuracy: 0.3865\n",
      "Epoch 10/50\n",
      "58/58 [==============================] - 10s 174ms/step - loss: 1.1553 - accuracy: 0.3960\n",
      "Epoch 11/50\n",
      "58/58 [==============================] - 10s 173ms/step - loss: 1.1274 - accuracy: 0.4140\n",
      "Epoch 12/50\n",
      "58/58 [==============================] - 10s 174ms/step - loss: 1.0900 - accuracy: 0.4525\n",
      "Epoch 13/50\n",
      "58/58 [==============================] - 10s 179ms/step - loss: 1.0567 - accuracy: 0.4618\n",
      "Epoch 14/50\n",
      "58/58 [==============================] - 10s 175ms/step - loss: 1.0408 - accuracy: 0.4772\n",
      "Epoch 15/50\n",
      "58/58 [==============================] - 10s 173ms/step - loss: 0.9825 - accuracy: 0.4884\n",
      "Epoch 16/50\n",
      "58/58 [==============================] - 10s 177ms/step - loss: 0.9564 - accuracy: 0.5057\n",
      "Epoch 17/50\n",
      "58/58 [==============================] - 10s 173ms/step - loss: 0.9223 - accuracy: 0.5285\n",
      "Epoch 18/50\n",
      "58/58 [==============================] - 10s 178ms/step - loss: 0.8890 - accuracy: 0.5498\n",
      "Epoch 19/50\n",
      "58/58 [==============================] - 10s 180ms/step - loss: 0.8558 - accuracy: 0.5720\n",
      "Epoch 20/50\n",
      "58/58 [==============================] - 10s 174ms/step - loss: 0.8308 - accuracy: 0.5865\n",
      "Epoch 21/50\n",
      "58/58 [==============================] - 10s 177ms/step - loss: 0.8592 - accuracy: 0.5780\n",
      "Epoch 22/50\n",
      "58/58 [==============================] - 10s 175ms/step - loss: 0.8160 - accuracy: 0.5853\n",
      "Epoch 23/50\n",
      "58/58 [==============================] - 10s 177ms/step - loss: 0.7788 - accuracy: 0.6131\n",
      "Epoch 24/50\n",
      "58/58 [==============================] - 10s 177ms/step - loss: 0.7572 - accuracy: 0.6276\n",
      "Epoch 25/50\n",
      "58/58 [==============================] - 10s 175ms/step - loss: 0.7403 - accuracy: 0.6339\n",
      "Epoch 26/50\n",
      "58/58 [==============================] - 10s 175ms/step - loss: 0.7338 - accuracy: 0.6427\n",
      "Epoch 27/50\n",
      "58/58 [==============================] - 10s 172ms/step - loss: 0.6699 - accuracy: 0.6850\n",
      "Epoch 28/50\n",
      "58/58 [==============================] - 10s 174ms/step - loss: 0.6383 - accuracy: 0.7041\n",
      "Epoch 29/50\n",
      "58/58 [==============================] - 10s 171ms/step - loss: 0.6499 - accuracy: 0.6942\n",
      "Epoch 30/50\n",
      "58/58 [==============================] - 10s 172ms/step - loss: 0.6063 - accuracy: 0.7167\n",
      "Epoch 31/50\n",
      "58/58 [==============================] - 10s 178ms/step - loss: 0.6227 - accuracy: 0.7124\n",
      "Epoch 32/50\n",
      "58/58 [==============================] - 10s 176ms/step - loss: 0.5762 - accuracy: 0.7323\n",
      "Epoch 33/50\n",
      "58/58 [==============================] - 10s 174ms/step - loss: 0.5990 - accuracy: 0.7179\n",
      "Epoch 34/50\n",
      "58/58 [==============================] - 10s 174ms/step - loss: 0.5697 - accuracy: 0.7349\n",
      "Epoch 35/50\n",
      "58/58 [==============================] - 10s 180ms/step - loss: 0.5269 - accuracy: 0.7509\n",
      "Epoch 36/50\n",
      "58/58 [==============================] - 10s 178ms/step - loss: 0.5302 - accuracy: 0.7572\n",
      "Epoch 37/50\n",
      "58/58 [==============================] - 10s 175ms/step - loss: 0.5061 - accuracy: 0.7645\n",
      "Epoch 38/50\n",
      "58/58 [==============================] - 10s 174ms/step - loss: 0.4936 - accuracy: 0.7731\n",
      "Epoch 39/50\n",
      "58/58 [==============================] - 10s 175ms/step - loss: 0.5205 - accuracy: 0.7616\n",
      "Epoch 40/50\n",
      "58/58 [==============================] - 10s 176ms/step - loss: 0.5143 - accuracy: 0.7675\n",
      "Epoch 41/50\n",
      "58/58 [==============================] - 10s 174ms/step - loss: 0.4844 - accuracy: 0.7772\n",
      "Epoch 42/50\n",
      "58/58 [==============================] - 11s 182ms/step - loss: 0.4798 - accuracy: 0.7827\n",
      "Epoch 43/50\n",
      "58/58 [==============================] - 10s 174ms/step - loss: 0.4775 - accuracy: 0.7855\n",
      "Epoch 44/50\n",
      "58/58 [==============================] - 10s 174ms/step - loss: 0.4636 - accuracy: 0.7910\n",
      "Epoch 45/50\n",
      "58/58 [==============================] - 11s 181ms/step - loss: 0.4650 - accuracy: 0.7904\n",
      "Epoch 46/50\n",
      "58/58 [==============================] - 10s 177ms/step - loss: 0.4677 - accuracy: 0.7906\n",
      "Epoch 47/50\n",
      "58/58 [==============================] - 10s 174ms/step - loss: 0.4211 - accuracy: 0.8139\n",
      "Epoch 48/50\n",
      "58/58 [==============================] - 10s 178ms/step - loss: 0.4571 - accuracy: 0.7941\n",
      "Epoch 49/50\n",
      "58/58 [==============================] - 10s 177ms/step - loss: 0.4303 - accuracy: 0.8126\n",
      "Epoch 50/50\n",
      "58/58 [==============================] - 11s 183ms/step - loss: 0.4654 - accuracy: 0.7862\n"
     ]
    },
    {
     "data": {
      "text/plain": [
       "<tensorflow.python.keras.callbacks.History at 0x7fcf8dbab6d0>"
      ]
     },
     "execution_count": 17,
     "metadata": {},
     "output_type": "execute_result"
    }
   ],
   "source": [
    "model_gyro.fit(trainX_gyro, trainy, epochs=epochs, batch_size=batch_size, verbose=verbose)"
   ]
  },
  {
   "cell_type": "code",
   "execution_count": 18,
   "id": "4e8380ca",
   "metadata": {},
   "outputs": [
    {
     "name": "stdout",
     "output_type": "stream",
     "text": [
      "Test accuracy of model is: 0.7631489634513855\n"
     ]
    }
   ],
   "source": [
    "# evaluate model\n",
    "_, accuracy = model_gyro.evaluate(testX_gyro, testy, batch_size=batch_size, verbose=0)\n",
    "\n",
    "print('Test accuracy of model is:', accuracy)"
   ]
  },
  {
   "cell_type": "code",
   "execution_count": null,
   "id": "8a2a915f",
   "metadata": {},
   "outputs": [],
   "source": []
  }
 ],
 "metadata": {
  "kernelspec": {
   "display_name": "Python 3 (ipykernel)",
   "language": "python",
   "name": "python3"
  },
  "language_info": {
   "codemirror_mode": {
    "name": "ipython",
    "version": 3
   },
   "file_extension": ".py",
   "mimetype": "text/x-python",
   "name": "python",
   "nbconvert_exporter": "python",
   "pygments_lexer": "ipython3",
   "version": "3.8.1"
  }
 },
 "nbformat": 4,
 "nbformat_minor": 5
}
